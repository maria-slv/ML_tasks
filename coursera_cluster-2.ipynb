{
  "nbformat": 4,
  "nbformat_minor": 0,
  "metadata": {
    "colab": {
      "provenance": []
    },
    "kernelspec": {
      "name": "python3",
      "display_name": "Python 3"
    },
    "language_info": {
      "name": "python"
    }
  },
  "cells": [
    {
      "cell_type": "code",
      "execution_count": 37,
      "metadata": {
        "colab": {
          "base_uri": "https://localhost:8080/"
        },
        "id": "nvX1CvEVL3CC",
        "outputId": "1c49c65d-2aa0-4eb6-ba9b-28beaff50eb7"
      },
      "outputs": [
        {
          "output_type": "stream",
          "name": "stderr",
          "text": [
            "/usr/local/lib/python3.8/dist-packages/IPython/core/interactiveshell.py:3326: DtypeWarning: Columns (0) have mixed types.Specify dtype option on import or set low_memory=False.\n",
            "  exec(code_obj, self.user_global_ns, self.user_ns)\n"
          ]
        }
      ],
      "source": [
        "from numpy.lib.index_tricks import index_exp\n",
        "import pandas as pd\n",
        "f1 = pd.read_csv('/content/drive/MyDrive/Colab Notebooks/checkins.csv', skipinitialspace=True, sep='|')"
      ]
    },
    {
      "cell_type": "code",
      "source": [
        "f1 = f1.drop(labels = [0],axis = 0) # удалить неинформативную строку с индексом 0"
      ],
      "metadata": {
        "id": "d6yBV8TTPwVv"
      },
      "execution_count": 41,
      "outputs": []
    },
    {
      "cell_type": "code",
      "source": [
        "f1.head()"
      ],
      "metadata": {
        "colab": {
          "base_uri": "https://localhost:8080/",
          "height": 204
        },
        "id": "9Qr2na4kMyFh",
        "outputId": "3c1859cd-108c-47a1-b87e-cdb3d7e0a50a"
      },
      "execution_count": 42,
      "outputs": [
        {
          "output_type": "execute_result",
          "data": {
            "text/plain": [
              "    id       user_id   venue_id   latitude        longitude       \\\n",
              "1  984301   2041916.0     5222.0             NaN             NaN   \n",
              "2  984222     15824.0     5222.0       38.895112      -77.036366   \n",
              "3  984315   1764391.0     5222.0             NaN             NaN   \n",
              "4  984234     44652.0     5222.0       33.800745      -84.410520   \n",
              "5  984249   2146840.0     5222.0             NaN             NaN   \n",
              "\n",
              "      created_at        \n",
              "1  2012-04-21 17:39:01  \n",
              "2  2012-04-21 17:43:47  \n",
              "3  2012-04-21 17:37:18  \n",
              "4  2012-04-21 17:43:43  \n",
              "5  2012-04-21 17:42:58  "
            ],
            "text/html": [
              "\n",
              "  <div id=\"df-c858bd33-c7e3-49cb-86bc-802f52565b3a\">\n",
              "    <div class=\"colab-df-container\">\n",
              "      <div>\n",
              "<style scoped>\n",
              "    .dataframe tbody tr th:only-of-type {\n",
              "        vertical-align: middle;\n",
              "    }\n",
              "\n",
              "    .dataframe tbody tr th {\n",
              "        vertical-align: top;\n",
              "    }\n",
              "\n",
              "    .dataframe thead th {\n",
              "        text-align: right;\n",
              "    }\n",
              "</style>\n",
              "<table border=\"1\" class=\"dataframe\">\n",
              "  <thead>\n",
              "    <tr style=\"text-align: right;\">\n",
              "      <th></th>\n",
              "      <th>id</th>\n",
              "      <th>user_id</th>\n",
              "      <th>venue_id</th>\n",
              "      <th>latitude</th>\n",
              "      <th>longitude</th>\n",
              "      <th>created_at</th>\n",
              "    </tr>\n",
              "  </thead>\n",
              "  <tbody>\n",
              "    <tr>\n",
              "      <th>1</th>\n",
              "      <td>984301</td>\n",
              "      <td>2041916.0</td>\n",
              "      <td>5222.0</td>\n",
              "      <td>NaN</td>\n",
              "      <td>NaN</td>\n",
              "      <td>2012-04-21 17:39:01</td>\n",
              "    </tr>\n",
              "    <tr>\n",
              "      <th>2</th>\n",
              "      <td>984222</td>\n",
              "      <td>15824.0</td>\n",
              "      <td>5222.0</td>\n",
              "      <td>38.895112</td>\n",
              "      <td>-77.036366</td>\n",
              "      <td>2012-04-21 17:43:47</td>\n",
              "    </tr>\n",
              "    <tr>\n",
              "      <th>3</th>\n",
              "      <td>984315</td>\n",
              "      <td>1764391.0</td>\n",
              "      <td>5222.0</td>\n",
              "      <td>NaN</td>\n",
              "      <td>NaN</td>\n",
              "      <td>2012-04-21 17:37:18</td>\n",
              "    </tr>\n",
              "    <tr>\n",
              "      <th>4</th>\n",
              "      <td>984234</td>\n",
              "      <td>44652.0</td>\n",
              "      <td>5222.0</td>\n",
              "      <td>33.800745</td>\n",
              "      <td>-84.410520</td>\n",
              "      <td>2012-04-21 17:43:43</td>\n",
              "    </tr>\n",
              "    <tr>\n",
              "      <th>5</th>\n",
              "      <td>984249</td>\n",
              "      <td>2146840.0</td>\n",
              "      <td>5222.0</td>\n",
              "      <td>NaN</td>\n",
              "      <td>NaN</td>\n",
              "      <td>2012-04-21 17:42:58</td>\n",
              "    </tr>\n",
              "  </tbody>\n",
              "</table>\n",
              "</div>\n",
              "      <button class=\"colab-df-convert\" onclick=\"convertToInteractive('df-c858bd33-c7e3-49cb-86bc-802f52565b3a')\"\n",
              "              title=\"Convert this dataframe to an interactive table.\"\n",
              "              style=\"display:none;\">\n",
              "        \n",
              "  <svg xmlns=\"http://www.w3.org/2000/svg\" height=\"24px\"viewBox=\"0 0 24 24\"\n",
              "       width=\"24px\">\n",
              "    <path d=\"M0 0h24v24H0V0z\" fill=\"none\"/>\n",
              "    <path d=\"M18.56 5.44l.94 2.06.94-2.06 2.06-.94-2.06-.94-.94-2.06-.94 2.06-2.06.94zm-11 1L8.5 8.5l.94-2.06 2.06-.94-2.06-.94L8.5 2.5l-.94 2.06-2.06.94zm10 10l.94 2.06.94-2.06 2.06-.94-2.06-.94-.94-2.06-.94 2.06-2.06.94z\"/><path d=\"M17.41 7.96l-1.37-1.37c-.4-.4-.92-.59-1.43-.59-.52 0-1.04.2-1.43.59L10.3 9.45l-7.72 7.72c-.78.78-.78 2.05 0 2.83L4 21.41c.39.39.9.59 1.41.59.51 0 1.02-.2 1.41-.59l7.78-7.78 2.81-2.81c.8-.78.8-2.07 0-2.86zM5.41 20L4 18.59l7.72-7.72 1.47 1.35L5.41 20z\"/>\n",
              "  </svg>\n",
              "      </button>\n",
              "      \n",
              "  <style>\n",
              "    .colab-df-container {\n",
              "      display:flex;\n",
              "      flex-wrap:wrap;\n",
              "      gap: 12px;\n",
              "    }\n",
              "\n",
              "    .colab-df-convert {\n",
              "      background-color: #E8F0FE;\n",
              "      border: none;\n",
              "      border-radius: 50%;\n",
              "      cursor: pointer;\n",
              "      display: none;\n",
              "      fill: #1967D2;\n",
              "      height: 32px;\n",
              "      padding: 0 0 0 0;\n",
              "      width: 32px;\n",
              "    }\n",
              "\n",
              "    .colab-df-convert:hover {\n",
              "      background-color: #E2EBFA;\n",
              "      box-shadow: 0px 1px 2px rgba(60, 64, 67, 0.3), 0px 1px 3px 1px rgba(60, 64, 67, 0.15);\n",
              "      fill: #174EA6;\n",
              "    }\n",
              "\n",
              "    [theme=dark] .colab-df-convert {\n",
              "      background-color: #3B4455;\n",
              "      fill: #D2E3FC;\n",
              "    }\n",
              "\n",
              "    [theme=dark] .colab-df-convert:hover {\n",
              "      background-color: #434B5C;\n",
              "      box-shadow: 0px 1px 3px 1px rgba(0, 0, 0, 0.15);\n",
              "      filter: drop-shadow(0px 1px 2px rgba(0, 0, 0, 0.3));\n",
              "      fill: #FFFFFF;\n",
              "    }\n",
              "  </style>\n",
              "\n",
              "      <script>\n",
              "        const buttonEl =\n",
              "          document.querySelector('#df-c858bd33-c7e3-49cb-86bc-802f52565b3a button.colab-df-convert');\n",
              "        buttonEl.style.display =\n",
              "          google.colab.kernel.accessAllowed ? 'block' : 'none';\n",
              "\n",
              "        async function convertToInteractive(key) {\n",
              "          const element = document.querySelector('#df-c858bd33-c7e3-49cb-86bc-802f52565b3a');\n",
              "          const dataTable =\n",
              "            await google.colab.kernel.invokeFunction('convertToInteractive',\n",
              "                                                     [key], {});\n",
              "          if (!dataTable) return;\n",
              "\n",
              "          const docLinkHtml = 'Like what you see? Visit the ' +\n",
              "            '<a target=\"_blank\" href=https://colab.research.google.com/notebooks/data_table.ipynb>data table notebook</a>'\n",
              "            + ' to learn more about interactive tables.';\n",
              "          element.innerHTML = '';\n",
              "          dataTable['output_type'] = 'display_data';\n",
              "          await google.colab.output.renderOutput(dataTable, element);\n",
              "          const docLink = document.createElement('div');\n",
              "          docLink.innerHTML = docLinkHtml;\n",
              "          element.appendChild(docLink);\n",
              "        }\n",
              "      </script>\n",
              "    </div>\n",
              "  </div>\n",
              "  "
            ]
          },
          "metadata": {},
          "execution_count": 42
        }
      ]
    },
    {
      "cell_type": "code",
      "source": [
        "f1.columns"
      ],
      "metadata": {
        "colab": {
          "base_uri": "https://localhost:8080/"
        },
        "id": "FyoFQ5xUNJ2e",
        "outputId": "cfb99038-88fd-4b76-9602-5d3b120de481"
      },
      "execution_count": 43,
      "outputs": [
        {
          "output_type": "execute_result",
          "data": {
            "text/plain": [
              "Index(['id    ', 'user_id ', 'venue_id ', 'latitude      ', 'longitude     ',\n",
              "       'created_at      '],\n",
              "      dtype='object')"
            ]
          },
          "metadata": {},
          "execution_count": 43
        }
      ]
    },
    {
      "cell_type": "code",
      "source": [
        "f1 = f1.rename(str.strip, axis='columns') # избавляем заголовки столбцов от пробельных символов"
      ],
      "metadata": {
        "id": "NMBheKKbQQy4"
      },
      "execution_count": 44,
      "outputs": []
    },
    {
      "cell_type": "code",
      "source": [
        "# удалить строки в  которых нет координат (поля 'latitude', 'longitude' )\n",
        "# f1.loc[(f1.latitude.isna()) & (f1.longitude.isna())]\n",
        "f1 = f1.dropna(subset=['latitude', 'longitude'])"
      ],
      "metadata": {
        "id": "MxBek4bZQ_y7"
      },
      "execution_count": 45,
      "outputs": []
    },
    {
      "cell_type": "code",
      "source": [
        "f1.count()"
      ],
      "metadata": {
        "colab": {
          "base_uri": "https://localhost:8080/"
        },
        "id": "rU2c04mnXW2R",
        "outputId": "6691baf1-bb4a-46bb-da95-ed362ac9451f"
      },
      "execution_count": 46,
      "outputs": [
        {
          "output_type": "execute_result",
          "data": {
            "text/plain": [
              "id            396634\n",
              "user_id       396634\n",
              "venue_id      396634\n",
              "latitude      396634\n",
              "longitude     396634\n",
              "created_at    396634\n",
              "dtype: int64"
            ]
          },
          "metadata": {},
          "execution_count": 46
        }
      ]
    },
    {
      "cell_type": "code",
      "source": [
        "# subset = 100 000 \n",
        "subset_area = f1.head(100000)"
      ],
      "metadata": {
        "id": "GysY9bnjYz1X"
      },
      "execution_count": 47,
      "outputs": []
    },
    {
      "cell_type": "code",
      "source": [
        "# сбросить индекс для новой выборки\n",
        "subset_area.reset_index(drop=True, inplace=True)"
      ],
      "metadata": {
        "id": "IxR-CZrealvr"
      },
      "execution_count": 48,
      "outputs": []
    },
    {
      "cell_type": "code",
      "source": [
        "subset_area"
      ],
      "metadata": {
        "colab": {
          "base_uri": "https://localhost:8080/",
          "height": 419
        },
        "id": "HrdFW96Aasfv",
        "outputId": "d81016c2-44ce-461f-ecc0-19b61eb1ff1d"
      },
      "execution_count": 49,
      "outputs": [
        {
          "output_type": "execute_result",
          "data": {
            "text/plain": [
              "            id    user_id   venue_id   latitude   longitude  \\\n",
              "0      984222     15824.0     5222.0  38.895112  -77.036366   \n",
              "1      984234     44652.0     5222.0  33.800745  -84.410520   \n",
              "2      984291    105054.0     5222.0  45.523452 -122.676207   \n",
              "3      984318   2146539.0     5222.0  40.764462 -111.904565   \n",
              "4      984232     93870.0   380645.0  33.448377 -112.074037   \n",
              "...        ...        ...        ...        ...         ...   \n",
              "99995   123888  1019078.0  1105563.0  33.575000 -117.725556   \n",
              "99996   124366   771129.0   329847.0  37.629349 -122.400087   \n",
              "99997   125556   804990.0   254046.0  29.762884  -95.383061   \n",
              "99998   127250   526214.0    34473.0  32.802955  -96.769923   \n",
              "99999   127284   290973.0   280656.0  37.774929 -122.419415   \n",
              "\n",
              "                created_at  \n",
              "0      2012-04-21 17:43:47  \n",
              "1      2012-04-21 17:43:43  \n",
              "2      2012-04-21 17:39:22  \n",
              "3      2012-04-21 17:35:46  \n",
              "4      2012-04-21 17:38:18  \n",
              "...                    ...  \n",
              "99995  2011-12-11 05:38:19  \n",
              "99996  2011-12-11 04:55:34  \n",
              "99997  2011-12-11 06:54:20  \n",
              "99998  2011-12-11 10:05:38  \n",
              "99999  2011-12-11 08:24:40  \n",
              "\n",
              "[100000 rows x 6 columns]"
            ],
            "text/html": [
              "\n",
              "  <div id=\"df-c72a7d27-e4e5-42ce-bd88-54697661f9ed\">\n",
              "    <div class=\"colab-df-container\">\n",
              "      <div>\n",
              "<style scoped>\n",
              "    .dataframe tbody tr th:only-of-type {\n",
              "        vertical-align: middle;\n",
              "    }\n",
              "\n",
              "    .dataframe tbody tr th {\n",
              "        vertical-align: top;\n",
              "    }\n",
              "\n",
              "    .dataframe thead th {\n",
              "        text-align: right;\n",
              "    }\n",
              "</style>\n",
              "<table border=\"1\" class=\"dataframe\">\n",
              "  <thead>\n",
              "    <tr style=\"text-align: right;\">\n",
              "      <th></th>\n",
              "      <th>id</th>\n",
              "      <th>user_id</th>\n",
              "      <th>venue_id</th>\n",
              "      <th>latitude</th>\n",
              "      <th>longitude</th>\n",
              "      <th>created_at</th>\n",
              "    </tr>\n",
              "  </thead>\n",
              "  <tbody>\n",
              "    <tr>\n",
              "      <th>0</th>\n",
              "      <td>984222</td>\n",
              "      <td>15824.0</td>\n",
              "      <td>5222.0</td>\n",
              "      <td>38.895112</td>\n",
              "      <td>-77.036366</td>\n",
              "      <td>2012-04-21 17:43:47</td>\n",
              "    </tr>\n",
              "    <tr>\n",
              "      <th>1</th>\n",
              "      <td>984234</td>\n",
              "      <td>44652.0</td>\n",
              "      <td>5222.0</td>\n",
              "      <td>33.800745</td>\n",
              "      <td>-84.410520</td>\n",
              "      <td>2012-04-21 17:43:43</td>\n",
              "    </tr>\n",
              "    <tr>\n",
              "      <th>2</th>\n",
              "      <td>984291</td>\n",
              "      <td>105054.0</td>\n",
              "      <td>5222.0</td>\n",
              "      <td>45.523452</td>\n",
              "      <td>-122.676207</td>\n",
              "      <td>2012-04-21 17:39:22</td>\n",
              "    </tr>\n",
              "    <tr>\n",
              "      <th>3</th>\n",
              "      <td>984318</td>\n",
              "      <td>2146539.0</td>\n",
              "      <td>5222.0</td>\n",
              "      <td>40.764462</td>\n",
              "      <td>-111.904565</td>\n",
              "      <td>2012-04-21 17:35:46</td>\n",
              "    </tr>\n",
              "    <tr>\n",
              "      <th>4</th>\n",
              "      <td>984232</td>\n",
              "      <td>93870.0</td>\n",
              "      <td>380645.0</td>\n",
              "      <td>33.448377</td>\n",
              "      <td>-112.074037</td>\n",
              "      <td>2012-04-21 17:38:18</td>\n",
              "    </tr>\n",
              "    <tr>\n",
              "      <th>...</th>\n",
              "      <td>...</td>\n",
              "      <td>...</td>\n",
              "      <td>...</td>\n",
              "      <td>...</td>\n",
              "      <td>...</td>\n",
              "      <td>...</td>\n",
              "    </tr>\n",
              "    <tr>\n",
              "      <th>99995</th>\n",
              "      <td>123888</td>\n",
              "      <td>1019078.0</td>\n",
              "      <td>1105563.0</td>\n",
              "      <td>33.575000</td>\n",
              "      <td>-117.725556</td>\n",
              "      <td>2011-12-11 05:38:19</td>\n",
              "    </tr>\n",
              "    <tr>\n",
              "      <th>99996</th>\n",
              "      <td>124366</td>\n",
              "      <td>771129.0</td>\n",
              "      <td>329847.0</td>\n",
              "      <td>37.629349</td>\n",
              "      <td>-122.400087</td>\n",
              "      <td>2011-12-11 04:55:34</td>\n",
              "    </tr>\n",
              "    <tr>\n",
              "      <th>99997</th>\n",
              "      <td>125556</td>\n",
              "      <td>804990.0</td>\n",
              "      <td>254046.0</td>\n",
              "      <td>29.762884</td>\n",
              "      <td>-95.383061</td>\n",
              "      <td>2011-12-11 06:54:20</td>\n",
              "    </tr>\n",
              "    <tr>\n",
              "      <th>99998</th>\n",
              "      <td>127250</td>\n",
              "      <td>526214.0</td>\n",
              "      <td>34473.0</td>\n",
              "      <td>32.802955</td>\n",
              "      <td>-96.769923</td>\n",
              "      <td>2011-12-11 10:05:38</td>\n",
              "    </tr>\n",
              "    <tr>\n",
              "      <th>99999</th>\n",
              "      <td>127284</td>\n",
              "      <td>290973.0</td>\n",
              "      <td>280656.0</td>\n",
              "      <td>37.774929</td>\n",
              "      <td>-122.419415</td>\n",
              "      <td>2011-12-11 08:24:40</td>\n",
              "    </tr>\n",
              "  </tbody>\n",
              "</table>\n",
              "<p>100000 rows × 6 columns</p>\n",
              "</div>\n",
              "      <button class=\"colab-df-convert\" onclick=\"convertToInteractive('df-c72a7d27-e4e5-42ce-bd88-54697661f9ed')\"\n",
              "              title=\"Convert this dataframe to an interactive table.\"\n",
              "              style=\"display:none;\">\n",
              "        \n",
              "  <svg xmlns=\"http://www.w3.org/2000/svg\" height=\"24px\"viewBox=\"0 0 24 24\"\n",
              "       width=\"24px\">\n",
              "    <path d=\"M0 0h24v24H0V0z\" fill=\"none\"/>\n",
              "    <path d=\"M18.56 5.44l.94 2.06.94-2.06 2.06-.94-2.06-.94-.94-2.06-.94 2.06-2.06.94zm-11 1L8.5 8.5l.94-2.06 2.06-.94-2.06-.94L8.5 2.5l-.94 2.06-2.06.94zm10 10l.94 2.06.94-2.06 2.06-.94-2.06-.94-.94-2.06-.94 2.06-2.06.94z\"/><path d=\"M17.41 7.96l-1.37-1.37c-.4-.4-.92-.59-1.43-.59-.52 0-1.04.2-1.43.59L10.3 9.45l-7.72 7.72c-.78.78-.78 2.05 0 2.83L4 21.41c.39.39.9.59 1.41.59.51 0 1.02-.2 1.41-.59l7.78-7.78 2.81-2.81c.8-.78.8-2.07 0-2.86zM5.41 20L4 18.59l7.72-7.72 1.47 1.35L5.41 20z\"/>\n",
              "  </svg>\n",
              "      </button>\n",
              "      \n",
              "  <style>\n",
              "    .colab-df-container {\n",
              "      display:flex;\n",
              "      flex-wrap:wrap;\n",
              "      gap: 12px;\n",
              "    }\n",
              "\n",
              "    .colab-df-convert {\n",
              "      background-color: #E8F0FE;\n",
              "      border: none;\n",
              "      border-radius: 50%;\n",
              "      cursor: pointer;\n",
              "      display: none;\n",
              "      fill: #1967D2;\n",
              "      height: 32px;\n",
              "      padding: 0 0 0 0;\n",
              "      width: 32px;\n",
              "    }\n",
              "\n",
              "    .colab-df-convert:hover {\n",
              "      background-color: #E2EBFA;\n",
              "      box-shadow: 0px 1px 2px rgba(60, 64, 67, 0.3), 0px 1px 3px 1px rgba(60, 64, 67, 0.15);\n",
              "      fill: #174EA6;\n",
              "    }\n",
              "\n",
              "    [theme=dark] .colab-df-convert {\n",
              "      background-color: #3B4455;\n",
              "      fill: #D2E3FC;\n",
              "    }\n",
              "\n",
              "    [theme=dark] .colab-df-convert:hover {\n",
              "      background-color: #434B5C;\n",
              "      box-shadow: 0px 1px 3px 1px rgba(0, 0, 0, 0.15);\n",
              "      filter: drop-shadow(0px 1px 2px rgba(0, 0, 0, 0.3));\n",
              "      fill: #FFFFFF;\n",
              "    }\n",
              "  </style>\n",
              "\n",
              "      <script>\n",
              "        const buttonEl =\n",
              "          document.querySelector('#df-c72a7d27-e4e5-42ce-bd88-54697661f9ed button.colab-df-convert');\n",
              "        buttonEl.style.display =\n",
              "          google.colab.kernel.accessAllowed ? 'block' : 'none';\n",
              "\n",
              "        async function convertToInteractive(key) {\n",
              "          const element = document.querySelector('#df-c72a7d27-e4e5-42ce-bd88-54697661f9ed');\n",
              "          const dataTable =\n",
              "            await google.colab.kernel.invokeFunction('convertToInteractive',\n",
              "                                                     [key], {});\n",
              "          if (!dataTable) return;\n",
              "\n",
              "          const docLinkHtml = 'Like what you see? Visit the ' +\n",
              "            '<a target=\"_blank\" href=https://colab.research.google.com/notebooks/data_table.ipynb>data table notebook</a>'\n",
              "            + ' to learn more about interactive tables.';\n",
              "          element.innerHTML = '';\n",
              "          dataTable['output_type'] = 'display_data';\n",
              "          await google.colab.output.renderOutput(dataTable, element);\n",
              "          const docLink = document.createElement('div');\n",
              "          docLink.innerHTML = docLinkHtml;\n",
              "          element.appendChild(docLink);\n",
              "        }\n",
              "      </script>\n",
              "    </div>\n",
              "  </div>\n",
              "  "
            ]
          },
          "metadata": {},
          "execution_count": 49
        }
      ]
    },
    {
      "cell_type": "markdown",
      "source": [
        "Кластеризация"
      ],
      "metadata": {
        "id": "CMIONCpxTV7F"
      }
    },
    {
      "cell_type": "code",
      "source": [
        "import numpy as np\n",
        "from sklearn.cluster import MeanShift, estimate_bandwidth"
      ],
      "metadata": {
        "id": "4END2fpoU3K2"
      },
      "execution_count": 50,
      "outputs": []
    },
    {
      "cell_type": "code",
      "source": [
        "# список списков из двух значений numpy.ndarray\n",
        "X = subset_area.loc[:, ['latitude', 'longitude']].values"
      ],
      "metadata": {
        "id": "Pgg9yIAWVJ1G"
      },
      "execution_count": 51,
      "outputs": []
    },
    {
      "cell_type": "code",
      "source": [
        "ms = MeanShift(bandwidth=0.1, bin_seeding=True, min_bin_freq=15)\n",
        "ms.fit(X)\n",
        "labels = ms.labels_\n",
        "cluster_centers = ms.cluster_centers_"
      ],
      "metadata": {
        "id": "6AKOgLUqWd91"
      },
      "execution_count": 52,
      "outputs": []
    },
    {
      "cell_type": "code",
      "source": [
        "labels_unique = np.unique(labels)\n",
        "n_clusters_ = len(labels_unique)\n",
        "\n",
        "print(\"number of estimated clusters : %d\" % n_clusters_)\n"
      ],
      "metadata": {
        "colab": {
          "base_uri": "https://localhost:8080/"
        },
        "id": "Rb46IX4OXplM",
        "outputId": "3ede2360-ce11-48d8-e9ca-b7d23661b4e1"
      },
      "execution_count": 53,
      "outputs": [
        {
          "output_type": "stream",
          "name": "stdout",
          "text": [
            "number of estimated clusters : 524\n"
          ]
        }
      ]
    },
    {
      "cell_type": "code",
      "source": [
        "cluster_centers"
      ],
      "metadata": {
        "colab": {
          "base_uri": "https://localhost:8080/"
        },
        "id": "k3k_misKZSsb",
        "outputId": "9e4a2690-6772-45a8-9247-f9f0cd4af63d"
      },
      "execution_count": 54,
      "outputs": [
        {
          "output_type": "execute_result",
          "data": {
            "text/plain": [
              "array([[  40.7177164 ,  -73.99183542],\n",
              "       [  33.44638027, -111.90188756],\n",
              "       [  33.44841049, -112.07400428],\n",
              "       ...,\n",
              "       [  34.5794343 , -118.1164613 ],\n",
              "       [  29.7030024 ,  -98.1244531 ],\n",
              "       [  27.50342762,  -82.57431938]])"
            ]
          },
          "metadata": {},
          "execution_count": 54
        }
      ]
    },
    {
      "cell_type": "code",
      "source": [
        "# координаты офисов\n",
        "office_adress = np.array(\n",
        "[[33.751277, -118.188740],\n",
        "[25.867736, -80.324116],\n",
        "[51.503016, -0.075479],\n",
        "[52.378894, 4.885084],\n",
        "[39.366487, 117.036146],\n",
        "[-33.868457, 151.205134]\n",
        "])\n",
        "# 33.751277, -118.188740 (Los Angeles)\n",
        "# 25.867736, -80.324116 (Miami)\n",
        "# 51.503016, -0.075479 (London)\n",
        "# 52.378894, 4.885084 (Amsterdam)\n",
        "# 39.366487, 117.036146 (Beijing)\n",
        "# -33.868457, 151.205134 (Sydney)"
      ],
      "metadata": {
        "id": "op8AwSiVoQHe"
      },
      "execution_count": 55,
      "outputs": []
    },
    {
      "cell_type": "code",
      "source": [
        "office_adress.shape"
      ],
      "metadata": {
        "colab": {
          "base_uri": "https://localhost:8080/"
        },
        "id": "qJFP0ZaetB-8",
        "outputId": "1494064a-26f6-48b3-a30e-b7365dbb47bc"
      },
      "execution_count": 56,
      "outputs": [
        {
          "output_type": "execute_result",
          "data": {
            "text/plain": [
              "(6, 2)"
            ]
          },
          "metadata": {},
          "execution_count": 56
        }
      ]
    },
    {
      "cell_type": "code",
      "source": [
        "# найти ближайший офис для каждого центра кластера\n",
        "def distance(xa, ya, xb, yb):\n",
        "  \"расстояние между 2 точками\"\n",
        "  return ((xb - xa) ** 2 + (yb - ya) ** 2) ** 0.5\n",
        "# для каждого центра кластера минимальное расстояние до одного из офисов\n",
        "distPerOf = np.zeros(len(cluster_centers)) \n",
        "# словарь расстояние до ближайшего офиса и коордитаны этого центра кластера\n",
        "dict_dist = {}\n",
        "for j in range(len(cluster_centers)):\n",
        "  mind = -1\n",
        "  for i in office_adress:\n",
        "    d = distance(*i, *cluster_centers[j])\n",
        "    if d < mind or mind == -1:\n",
        "      mind = d\n",
        "  distPerOf[j] = mind\n",
        "  dict_dist[mind] = cluster_centers[j]"
      ],
      "metadata": {
        "id": "iuYs5r_hpdiK"
      },
      "execution_count": 57,
      "outputs": []
    },
    {
      "cell_type": "code",
      "source": [
        "# находим 20 ближайших к офисам центров кластеров\n",
        "distPerOf.sort()\n",
        "distPerOf[:20]"
      ],
      "metadata": {
        "colab": {
          "base_uri": "https://localhost:8080/"
        },
        "id": "j7cF1pL7txgy",
        "outputId": "4f686bd4-9854-4c90-9d58-b6835f170bbe"
      },
      "execution_count": 58,
      "outputs": [
        {
          "output_type": "execute_result",
          "data": {
            "text/plain": [
              "array([0.00783476, 0.00935332, 0.02235844, 0.05005829, 0.06476319,\n",
              "       0.13410903, 0.16740596, 0.18887596, 0.19577946, 0.21181054,\n",
              "       0.26560622, 0.30227012, 0.30409754, 0.31488379, 0.34084565,\n",
              "       0.36356462, 0.3786875 , 0.38723645, 0.39579207, 0.40424612])"
            ]
          },
          "metadata": {},
          "execution_count": 58
        }
      ]
    },
    {
      "cell_type": "code",
      "source": [
        "distPerOf[0]"
      ],
      "metadata": {
        "colab": {
          "base_uri": "https://localhost:8080/"
        },
        "id": "1Dcz0lYywu9T",
        "outputId": "74e1d3c9-20ac-4738-ccdc-1b5e19dda750"
      },
      "execution_count": 59,
      "outputs": [
        {
          "output_type": "execute_result",
          "data": {
            "text/plain": [
              "0.007834758163107856"
            ]
          },
          "metadata": {},
          "execution_count": 59
        }
      ]
    },
    {
      "cell_type": "code",
      "source": [
        "# решение задачи - координаты ближайшего центра кластера (более 15 элементов)\n",
        "dict_dist.get(distPerOf[0])"
      ],
      "metadata": {
        "colab": {
          "base_uri": "https://localhost:8080/"
        },
        "id": "7S3TNPkJwiA4",
        "outputId": "353f9890-25bf-478d-e13d-a743b4d60652"
      },
      "execution_count": 60,
      "outputs": [
        {
          "output_type": "execute_result",
          "data": {
            "text/plain": [
              "array([-33.86063043, 151.20477593])"
            ]
          },
          "metadata": {},
          "execution_count": 60
        }
      ]
    },
    {
      "cell_type": "code",
      "source": [],
      "metadata": {
        "id": "kKMvgA--Oln6"
      },
      "execution_count": null,
      "outputs": []
    },
    {
      "cell_type": "markdown",
      "source": [
        "Визуализация точек и центров кластеров"
      ],
      "metadata": {
        "id": "RwioCK3pOmmw"
      }
    },
    {
      "cell_type": "code",
      "source": [
        "import matplotlib.pyplot as plt\n",
        "\n",
        "plt.figure(1)\n",
        "plt.clf()\n",
        "\n",
        "for k in range(n_clusters_):\n",
        "    my_members = labels == k\n",
        "    cluster_center = cluster_centers[k]\n",
        "\n",
        "    # if (np.where(my_members == True, 1, 0).sum() < 15):\n",
        "    #   print('kol =', np.where(my_members == True, 1, 0).sum())\n",
        "    plt.plot(X[my_members, 0], X[my_members, 1], '^', markersize=4) # точки k-го кластера\n",
        "    \n",
        "    #центр k-го кластера\n",
        "    plt.plot(       \n",
        "        cluster_center[0],\n",
        "        cluster_center[1],\n",
        "        '*',\n",
        "        markersize=14,\n",
        "      )\n",
        "plt.title(\"Estimated number of clusters: %d\" % n_clusters_)\n",
        "plt.show()"
      ],
      "metadata": {
        "colab": {
          "base_uri": "https://localhost:8080/",
          "height": 281
        },
        "id": "JYfMCw2NYagD",
        "outputId": "0e00bb96-03c3-45c2-ebb6-330c71157adf"
      },
      "execution_count": 61,
      "outputs": [
        {
          "output_type": "display_data",
          "data": {
            "text/plain": [
              "<Figure size 432x288 with 1 Axes>"
            ],
            "image/png": "[encoded data removed]"
          },
          "metadata": {
            "needs_background": "light"
          }
        }
      ]
    },
    {
      "cell_type": "code",
      "source": [],
      "metadata": {
        "id": "lq88gMm7twPU"
      },
      "execution_count": null,
      "outputs": []
    },
    {
      "cell_type": "code",
      "source": [
        "np.where(my_members == True, 1, 0).sum()"
      ],
      "metadata": {
        "colab": {
          "base_uri": "https://localhost:8080/"
        },
        "id": "YGbsO3Xrik2S",
        "outputId": "342d4aa6-3354-442b-9133-409395666daa"
      },
      "execution_count": null,
      "outputs": [
        {
          "output_type": "execute_result",
          "data": {
            "text/plain": [
              "100000"
            ]
          },
          "metadata": {},
          "execution_count": 171
        }
      ]
    },
    {
      "cell_type": "code",
      "source": [
        "np.where(my_members == True, 1, 0).sum()"
      ],
      "metadata": {
        "colab": {
          "base_uri": "https://localhost:8080/"
        },
        "id": "6mS4V74Djsz1",
        "outputId": "5dc1f070-370b-491c-a3c1-d701dd392269"
      },
      "execution_count": null,
      "outputs": [
        {
          "output_type": "execute_result",
          "data": {
            "text/plain": [
              "1"
            ]
          },
          "metadata": {},
          "execution_count": 170
        }
      ]
    },
    {
      "cell_type": "markdown",
      "source": [
        "______________________"
      ],
      "metadata": {
        "id": "oxikfsXvU_QO"
      }
    }
  ]
}